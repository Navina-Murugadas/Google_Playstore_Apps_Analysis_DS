{
 "cells": [
  {
   "cell_type": "markdown",
   "id": "8985ace2",
   "metadata": {},
   "source": [
    "# GOOGLE APP STORE DATA ANALYSIS"
   ]
  },
  {
   "cell_type": "code",
   "execution_count": 1,
   "id": "c92f6a3f",
   "metadata": {},
   "outputs": [],
   "source": [
    "import numpy as np\n",
    "import pandas as pd\n",
    "import matplotlib.pyplot as plt\n",
    "import seaborn as sns\n",
    "\n",
    "import warnings\n",
    "warnings.filterwarnings('ignore')"
   ]
  },
  {
   "cell_type": "code",
   "execution_count": 2,
   "id": "d9ffb34e",
   "metadata": {},
   "outputs": [],
   "source": [
    "df = pd.read_csv('Google Apps data.csv')"
   ]
  },
  {
   "cell_type": "code",
   "execution_count": 3,
   "id": "94d3ed5c",
   "metadata": {},
   "outputs": [
    {
     "data": {
      "text/html": [
       "<div>\n",
       "<style scoped>\n",
       "    .dataframe tbody tr th:only-of-type {\n",
       "        vertical-align: middle;\n",
       "    }\n",
       "\n",
       "    .dataframe tbody tr th {\n",
       "        vertical-align: top;\n",
       "    }\n",
       "\n",
       "    .dataframe thead th {\n",
       "        text-align: right;\n",
       "    }\n",
       "</style>\n",
       "<table border=\"1\" class=\"dataframe\">\n",
       "  <thead>\n",
       "    <tr style=\"text-align: right;\">\n",
       "      <th></th>\n",
       "      <th>Unnamed: 0.1</th>\n",
       "      <th>Unnamed: 0</th>\n",
       "      <th>App</th>\n",
       "      <th>Category</th>\n",
       "      <th>Rating</th>\n",
       "      <th>Reviews</th>\n",
       "      <th>Size</th>\n",
       "      <th>Installs</th>\n",
       "      <th>Type</th>\n",
       "      <th>Price</th>\n",
       "      <th>Content Rating</th>\n",
       "      <th>Last Updated</th>\n",
       "      <th>Current Ver</th>\n",
       "      <th>Minimum Android Ver</th>\n",
       "      <th>Genres</th>\n",
       "    </tr>\n",
       "  </thead>\n",
       "  <tbody>\n",
       "    <tr>\n",
       "      <th>0</th>\n",
       "      <td>0</td>\n",
       "      <td>0</td>\n",
       "      <td>Photo Editor &amp; Candy Camera &amp; Grid &amp; ScrapBook</td>\n",
       "      <td>Art And Design</td>\n",
       "      <td>4.1</td>\n",
       "      <td>159</td>\n",
       "      <td>19.0</td>\n",
       "      <td>10000</td>\n",
       "      <td>Free</td>\n",
       "      <td>0.0</td>\n",
       "      <td>Others</td>\n",
       "      <td>January 7, 2018</td>\n",
       "      <td>1.0.0</td>\n",
       "      <td>4.0.3</td>\n",
       "      <td>Art &amp; Design</td>\n",
       "    </tr>\n",
       "    <tr>\n",
       "      <th>1</th>\n",
       "      <td>1</td>\n",
       "      <td>1</td>\n",
       "      <td>Coloring book moana</td>\n",
       "      <td>Art And Design</td>\n",
       "      <td>3.9</td>\n",
       "      <td>967</td>\n",
       "      <td>14.0</td>\n",
       "      <td>500000</td>\n",
       "      <td>Free</td>\n",
       "      <td>0.0</td>\n",
       "      <td>Others</td>\n",
       "      <td>January 15, 2018</td>\n",
       "      <td>2.0.0</td>\n",
       "      <td>4.0.3</td>\n",
       "      <td>Art &amp; Design</td>\n",
       "    </tr>\n",
       "    <tr>\n",
       "      <th>2</th>\n",
       "      <td>2</td>\n",
       "      <td>5</td>\n",
       "      <td>U Launcher Lite – FREE Live Cool Themes, Hide ...</td>\n",
       "      <td>Art And Design</td>\n",
       "      <td>4.7</td>\n",
       "      <td>87510</td>\n",
       "      <td>8.7</td>\n",
       "      <td>5000000</td>\n",
       "      <td>Free</td>\n",
       "      <td>0.0</td>\n",
       "      <td>Others</td>\n",
       "      <td>August 1, 2018</td>\n",
       "      <td>1.2.4</td>\n",
       "      <td>4.0.3</td>\n",
       "      <td>Art &amp; Design</td>\n",
       "    </tr>\n",
       "    <tr>\n",
       "      <th>3</th>\n",
       "      <td>3</td>\n",
       "      <td>6</td>\n",
       "      <td>Sketch - Draw &amp; Paint</td>\n",
       "      <td>Art And Design</td>\n",
       "      <td>4.5</td>\n",
       "      <td>215644</td>\n",
       "      <td>25.0</td>\n",
       "      <td>50000000</td>\n",
       "      <td>Free</td>\n",
       "      <td>0.0</td>\n",
       "      <td>Teen</td>\n",
       "      <td>June 8, 2018</td>\n",
       "      <td>Varies with device</td>\n",
       "      <td>4.2</td>\n",
       "      <td>Art &amp; Design</td>\n",
       "    </tr>\n",
       "    <tr>\n",
       "      <th>4</th>\n",
       "      <td>4</td>\n",
       "      <td>7</td>\n",
       "      <td>Pixel Draw - Number Art Coloring Book</td>\n",
       "      <td>Art And Design</td>\n",
       "      <td>4.3</td>\n",
       "      <td>967</td>\n",
       "      <td>2.8</td>\n",
       "      <td>100000</td>\n",
       "      <td>Free</td>\n",
       "      <td>0.0</td>\n",
       "      <td>Others</td>\n",
       "      <td>June 20, 2018</td>\n",
       "      <td>1.1</td>\n",
       "      <td>4.4</td>\n",
       "      <td>Art &amp; Design</td>\n",
       "    </tr>\n",
       "  </tbody>\n",
       "</table>\n",
       "</div>"
      ],
      "text/plain": [
       "   Unnamed: 0.1  Unnamed: 0  \\\n",
       "0             0           0   \n",
       "1             1           1   \n",
       "2             2           5   \n",
       "3             3           6   \n",
       "4             4           7   \n",
       "\n",
       "                                                 App        Category  Rating  \\\n",
       "0     Photo Editor & Candy Camera & Grid & ScrapBook  Art And Design     4.1   \n",
       "1                                Coloring book moana  Art And Design     3.9   \n",
       "2  U Launcher Lite – FREE Live Cool Themes, Hide ...  Art And Design     4.7   \n",
       "3                              Sketch - Draw & Paint  Art And Design     4.5   \n",
       "4              Pixel Draw - Number Art Coloring Book  Art And Design     4.3   \n",
       "\n",
       "   Reviews  Size  Installs  Type  Price Content Rating      Last Updated  \\\n",
       "0      159  19.0     10000  Free    0.0         Others   January 7, 2018   \n",
       "1      967  14.0    500000  Free    0.0         Others  January 15, 2018   \n",
       "2    87510   8.7   5000000  Free    0.0         Others    August 1, 2018   \n",
       "3   215644  25.0  50000000  Free    0.0           Teen      June 8, 2018   \n",
       "4      967   2.8    100000  Free    0.0         Others     June 20, 2018   \n",
       "\n",
       "          Current Ver Minimum Android Ver        Genres  \n",
       "0               1.0.0               4.0.3  Art & Design  \n",
       "1               2.0.0               4.0.3  Art & Design  \n",
       "2               1.2.4               4.0.3  Art & Design  \n",
       "3  Varies with device                 4.2  Art & Design  \n",
       "4                 1.1                 4.4  Art & Design  "
      ]
     },
     "execution_count": 3,
     "metadata": {},
     "output_type": "execute_result"
    }
   ],
   "source": [
    "df.head()"
   ]
  },
  {
   "cell_type": "code",
   "execution_count": 4,
   "id": "5d37cf01",
   "metadata": {},
   "outputs": [
    {
     "data": {
      "text/html": [
       "<div>\n",
       "<style scoped>\n",
       "    .dataframe tbody tr th:only-of-type {\n",
       "        vertical-align: middle;\n",
       "    }\n",
       "\n",
       "    .dataframe tbody tr th {\n",
       "        vertical-align: top;\n",
       "    }\n",
       "\n",
       "    .dataframe thead th {\n",
       "        text-align: right;\n",
       "    }\n",
       "</style>\n",
       "<table border=\"1\" class=\"dataframe\">\n",
       "  <thead>\n",
       "    <tr style=\"text-align: right;\">\n",
       "      <th></th>\n",
       "      <th>Unnamed: 0.1</th>\n",
       "      <th>Unnamed: 0</th>\n",
       "      <th>App</th>\n",
       "      <th>Category</th>\n",
       "      <th>Rating</th>\n",
       "      <th>Reviews</th>\n",
       "      <th>Size</th>\n",
       "      <th>Installs</th>\n",
       "      <th>Type</th>\n",
       "      <th>Price</th>\n",
       "      <th>Content Rating</th>\n",
       "      <th>Last Updated</th>\n",
       "      <th>Current Ver</th>\n",
       "      <th>Minimum Android Ver</th>\n",
       "      <th>Genres</th>\n",
       "    </tr>\n",
       "  </thead>\n",
       "  <tbody>\n",
       "    <tr>\n",
       "      <th>8271</th>\n",
       "      <td>8271</td>\n",
       "      <td>8912</td>\n",
       "      <td>FR Calculator</td>\n",
       "      <td>Family</td>\n",
       "      <td>4.0</td>\n",
       "      <td>7</td>\n",
       "      <td>2.6</td>\n",
       "      <td>500</td>\n",
       "      <td>Free</td>\n",
       "      <td>0.0</td>\n",
       "      <td>Others</td>\n",
       "      <td>June 18, 2017</td>\n",
       "      <td>1.0.0</td>\n",
       "      <td>4.1</td>\n",
       "      <td>Education</td>\n",
       "    </tr>\n",
       "    <tr>\n",
       "      <th>8272</th>\n",
       "      <td>8272</td>\n",
       "      <td>8913</td>\n",
       "      <td>Sya9a Maroc - FR</td>\n",
       "      <td>Family</td>\n",
       "      <td>4.5</td>\n",
       "      <td>38</td>\n",
       "      <td>53.0</td>\n",
       "      <td>5000</td>\n",
       "      <td>Free</td>\n",
       "      <td>0.0</td>\n",
       "      <td>Others</td>\n",
       "      <td>July 25, 2017</td>\n",
       "      <td>1.48</td>\n",
       "      <td>4.1</td>\n",
       "      <td>Education</td>\n",
       "    </tr>\n",
       "    <tr>\n",
       "      <th>8273</th>\n",
       "      <td>8273</td>\n",
       "      <td>8914</td>\n",
       "      <td>Fr. Mike Schmitz Audio Teachings</td>\n",
       "      <td>Family</td>\n",
       "      <td>5.0</td>\n",
       "      <td>4</td>\n",
       "      <td>3.6</td>\n",
       "      <td>100</td>\n",
       "      <td>Free</td>\n",
       "      <td>0.0</td>\n",
       "      <td>Others</td>\n",
       "      <td>July 6, 2018</td>\n",
       "      <td>1.0</td>\n",
       "      <td>4.1</td>\n",
       "      <td>Education</td>\n",
       "    </tr>\n",
       "    <tr>\n",
       "      <th>8274</th>\n",
       "      <td>8274</td>\n",
       "      <td>8915</td>\n",
       "      <td>The SCP Foundation DB fr nn5n</td>\n",
       "      <td>Books And Reference</td>\n",
       "      <td>4.5</td>\n",
       "      <td>114</td>\n",
       "      <td>1.0</td>\n",
       "      <td>1000</td>\n",
       "      <td>Free</td>\n",
       "      <td>0.0</td>\n",
       "      <td>NaN</td>\n",
       "      <td>January 19, 2015</td>\n",
       "      <td>Varies with device</td>\n",
       "      <td>-1</td>\n",
       "      <td>Books &amp; Reference</td>\n",
       "    </tr>\n",
       "    <tr>\n",
       "      <th>8275</th>\n",
       "      <td>8275</td>\n",
       "      <td>8916</td>\n",
       "      <td>iHoroscope - 2018 Daily Horoscope &amp; Astrology</td>\n",
       "      <td>Lifestyle</td>\n",
       "      <td>4.5</td>\n",
       "      <td>398307</td>\n",
       "      <td>19.0</td>\n",
       "      <td>10000000</td>\n",
       "      <td>Free</td>\n",
       "      <td>0.0</td>\n",
       "      <td>Others</td>\n",
       "      <td>July 25, 2018</td>\n",
       "      <td>Varies with device</td>\n",
       "      <td>-1</td>\n",
       "      <td>Lifestyle</td>\n",
       "    </tr>\n",
       "  </tbody>\n",
       "</table>\n",
       "</div>"
      ],
      "text/plain": [
       "      Unnamed: 0.1  Unnamed: 0                                            App  \\\n",
       "8271          8271        8912                                  FR Calculator   \n",
       "8272          8272        8913                               Sya9a Maroc - FR   \n",
       "8273          8273        8914               Fr. Mike Schmitz Audio Teachings   \n",
       "8274          8274        8915                  The SCP Foundation DB fr nn5n   \n",
       "8275          8275        8916  iHoroscope - 2018 Daily Horoscope & Astrology   \n",
       "\n",
       "                 Category  Rating  Reviews  Size  Installs  Type  Price  \\\n",
       "8271               Family     4.0        7   2.6       500  Free    0.0   \n",
       "8272               Family     4.5       38  53.0      5000  Free    0.0   \n",
       "8273               Family     5.0        4   3.6       100  Free    0.0   \n",
       "8274  Books And Reference     4.5      114   1.0      1000  Free    0.0   \n",
       "8275            Lifestyle     4.5   398307  19.0  10000000  Free    0.0   \n",
       "\n",
       "     Content Rating      Last Updated         Current Ver Minimum Android Ver  \\\n",
       "8271         Others     June 18, 2017               1.0.0                 4.1   \n",
       "8272         Others     July 25, 2017                1.48                 4.1   \n",
       "8273         Others      July 6, 2018                 1.0                 4.1   \n",
       "8274            NaN  January 19, 2015  Varies with device                  -1   \n",
       "8275         Others     July 25, 2018  Varies with device                  -1   \n",
       "\n",
       "                 Genres  \n",
       "8271          Education  \n",
       "8272          Education  \n",
       "8273          Education  \n",
       "8274  Books & Reference  \n",
       "8275          Lifestyle  "
      ]
     },
     "execution_count": 4,
     "metadata": {},
     "output_type": "execute_result"
    }
   ],
   "source": [
    "df.tail()"
   ]
  },
  {
   "cell_type": "code",
   "execution_count": 5,
   "id": "70e48eb4",
   "metadata": {},
   "outputs": [
    {
     "name": "stdout",
     "output_type": "stream",
     "text": [
      "<class 'pandas.core.frame.DataFrame'>\n",
      "RangeIndex: 8276 entries, 0 to 8275\n",
      "Data columns (total 15 columns):\n",
      " #   Column               Non-Null Count  Dtype  \n",
      "---  ------               --------------  -----  \n",
      " 0   Unnamed: 0.1         8276 non-null   int64  \n",
      " 1   Unnamed: 0           8276 non-null   int64  \n",
      " 2   App                  8276 non-null   object \n",
      " 3   Category             8276 non-null   object \n",
      " 4   Rating               8276 non-null   float64\n",
      " 5   Reviews              8276 non-null   int64  \n",
      " 6   Size                 8276 non-null   float64\n",
      " 7   Installs             8276 non-null   int64  \n",
      " 8   Type                 8276 non-null   object \n",
      " 9   Price                8276 non-null   float64\n",
      " 10  Content Rating       7915 non-null   object \n",
      " 11  Last Updated         8276 non-null   object \n",
      " 12  Current Ver          8276 non-null   object \n",
      " 13  Minimum Android Ver  8276 non-null   object \n",
      " 14  Genres               8276 non-null   object \n",
      "dtypes: float64(3), int64(4), object(8)\n",
      "memory usage: 970.0+ KB\n"
     ]
    }
   ],
   "source": [
    "df.info()"
   ]
  },
  {
   "cell_type": "code",
   "execution_count": 6,
   "id": "8ba17cba",
   "metadata": {},
   "outputs": [
    {
     "data": {
      "text/plain": [
       "(8276, 15)"
      ]
     },
     "execution_count": 6,
     "metadata": {},
     "output_type": "execute_result"
    }
   ],
   "source": [
    "df.shape"
   ]
  },
  {
   "cell_type": "code",
   "execution_count": 7,
   "id": "3b51ee7d",
   "metadata": {},
   "outputs": [
    {
     "data": {
      "text/html": [
       "<div>\n",
       "<style scoped>\n",
       "    .dataframe tbody tr th:only-of-type {\n",
       "        vertical-align: middle;\n",
       "    }\n",
       "\n",
       "    .dataframe tbody tr th {\n",
       "        vertical-align: top;\n",
       "    }\n",
       "\n",
       "    .dataframe thead th {\n",
       "        text-align: right;\n",
       "    }\n",
       "</style>\n",
       "<table border=\"1\" class=\"dataframe\">\n",
       "  <thead>\n",
       "    <tr style=\"text-align: right;\">\n",
       "      <th></th>\n",
       "      <th>Unnamed: 0.1</th>\n",
       "      <th>Unnamed: 0</th>\n",
       "      <th>Rating</th>\n",
       "      <th>Reviews</th>\n",
       "      <th>Size</th>\n",
       "      <th>Installs</th>\n",
       "      <th>Price</th>\n",
       "    </tr>\n",
       "  </thead>\n",
       "  <tbody>\n",
       "    <tr>\n",
       "      <th>count</th>\n",
       "      <td>8276.000000</td>\n",
       "      <td>8276.000000</td>\n",
       "      <td>8276.000000</td>\n",
       "      <td>8.276000e+03</td>\n",
       "      <td>8276.000000</td>\n",
       "      <td>8.276000e+03</td>\n",
       "      <td>8276.000000</td>\n",
       "    </tr>\n",
       "    <tr>\n",
       "      <th>mean</th>\n",
       "      <td>4137.500000</td>\n",
       "      <td>4560.609957</td>\n",
       "      <td>4.175121</td>\n",
       "      <td>2.803270e+05</td>\n",
       "      <td>18.897761</td>\n",
       "      <td>9.658206e+06</td>\n",
       "      <td>1.028758</td>\n",
       "    </tr>\n",
       "    <tr>\n",
       "      <th>std</th>\n",
       "      <td>2389.219747</td>\n",
       "      <td>2560.879748</td>\n",
       "      <td>0.534762</td>\n",
       "      <td>2.096170e+06</td>\n",
       "      <td>22.376521</td>\n",
       "      <td>5.986505e+07</td>\n",
       "      <td>16.776622</td>\n",
       "    </tr>\n",
       "    <tr>\n",
       "      <th>min</th>\n",
       "      <td>0.000000</td>\n",
       "      <td>0.000000</td>\n",
       "      <td>1.000000</td>\n",
       "      <td>1.000000e+00</td>\n",
       "      <td>0.008300</td>\n",
       "      <td>1.000000e+00</td>\n",
       "      <td>0.000000</td>\n",
       "    </tr>\n",
       "    <tr>\n",
       "      <th>25%</th>\n",
       "      <td>2068.750000</td>\n",
       "      <td>2459.750000</td>\n",
       "      <td>4.000000</td>\n",
       "      <td>1.290000e+02</td>\n",
       "      <td>2.800000</td>\n",
       "      <td>1.000000e+04</td>\n",
       "      <td>0.000000</td>\n",
       "    </tr>\n",
       "    <tr>\n",
       "      <th>50%</th>\n",
       "      <td>4137.500000</td>\n",
       "      <td>4613.500000</td>\n",
       "      <td>4.300000</td>\n",
       "      <td>3.213500e+03</td>\n",
       "      <td>9.500000</td>\n",
       "      <td>1.000000e+05</td>\n",
       "      <td>0.000000</td>\n",
       "    </tr>\n",
       "    <tr>\n",
       "      <th>75%</th>\n",
       "      <td>6206.250000</td>\n",
       "      <td>6765.250000</td>\n",
       "      <td>4.500000</td>\n",
       "      <td>4.627800e+04</td>\n",
       "      <td>27.000000</td>\n",
       "      <td>1.000000e+06</td>\n",
       "      <td>0.000000</td>\n",
       "    </tr>\n",
       "    <tr>\n",
       "      <th>max</th>\n",
       "      <td>8275.000000</td>\n",
       "      <td>8916.000000</td>\n",
       "      <td>5.000000</td>\n",
       "      <td>7.815831e+07</td>\n",
       "      <td>100.000000</td>\n",
       "      <td>1.000000e+09</td>\n",
       "      <td>400.000000</td>\n",
       "    </tr>\n",
       "  </tbody>\n",
       "</table>\n",
       "</div>"
      ],
      "text/plain": [
       "       Unnamed: 0.1   Unnamed: 0       Rating       Reviews         Size  \\\n",
       "count   8276.000000  8276.000000  8276.000000  8.276000e+03  8276.000000   \n",
       "mean    4137.500000  4560.609957     4.175121  2.803270e+05    18.897761   \n",
       "std     2389.219747  2560.879748     0.534762  2.096170e+06    22.376521   \n",
       "min        0.000000     0.000000     1.000000  1.000000e+00     0.008300   \n",
       "25%     2068.750000  2459.750000     4.000000  1.290000e+02     2.800000   \n",
       "50%     4137.500000  4613.500000     4.300000  3.213500e+03     9.500000   \n",
       "75%     6206.250000  6765.250000     4.500000  4.627800e+04    27.000000   \n",
       "max     8275.000000  8916.000000     5.000000  7.815831e+07   100.000000   \n",
       "\n",
       "           Installs        Price  \n",
       "count  8.276000e+03  8276.000000  \n",
       "mean   9.658206e+06     1.028758  \n",
       "std    5.986505e+07    16.776622  \n",
       "min    1.000000e+00     0.000000  \n",
       "25%    1.000000e+04     0.000000  \n",
       "50%    1.000000e+05     0.000000  \n",
       "75%    1.000000e+06     0.000000  \n",
       "max    1.000000e+09   400.000000  "
      ]
     },
     "execution_count": 7,
     "metadata": {},
     "output_type": "execute_result"
    }
   ],
   "source": [
    "df.describe()"
   ]
  },
  {
   "cell_type": "code",
   "execution_count": 8,
   "id": "2d98cf2e",
   "metadata": {},
   "outputs": [
    {
     "data": {
      "text/plain": [
       "Unnamed: 0.1             0\n",
       "Unnamed: 0               0\n",
       "App                      0\n",
       "Category                 0\n",
       "Rating                   0\n",
       "Reviews                  0\n",
       "Size                     0\n",
       "Installs                 0\n",
       "Type                     0\n",
       "Price                    0\n",
       "Content Rating         361\n",
       "Last Updated             0\n",
       "Current Ver              0\n",
       "Minimum Android Ver      0\n",
       "Genres                   0\n",
       "dtype: int64"
      ]
     },
     "execution_count": 8,
     "metadata": {},
     "output_type": "execute_result"
    }
   ],
   "source": [
    "df.isnull().sum()"
   ]
  },
  {
   "cell_type": "code",
   "execution_count": 9,
   "id": "2e64d3c3",
   "metadata": {},
   "outputs": [],
   "source": [
    "df.drop(columns = ['Unnamed: 0.1', 'Unnamed: 0'], inplace=True)"
   ]
  },
  {
   "cell_type": "code",
   "execution_count": 10,
   "id": "5fa23bfc",
   "metadata": {},
   "outputs": [
    {
     "data": {
      "text/plain": [
       "(8276, 13)"
      ]
     },
     "execution_count": 10,
     "metadata": {},
     "output_type": "execute_result"
    }
   ],
   "source": [
    "df.shape"
   ]
  },
  {
   "cell_type": "code",
   "execution_count": 11,
   "id": "e9088ab4",
   "metadata": {},
   "outputs": [
    {
     "data": {
      "text/html": [
       "<div>\n",
       "<style scoped>\n",
       "    .dataframe tbody tr th:only-of-type {\n",
       "        vertical-align: middle;\n",
       "    }\n",
       "\n",
       "    .dataframe tbody tr th {\n",
       "        vertical-align: top;\n",
       "    }\n",
       "\n",
       "    .dataframe thead th {\n",
       "        text-align: right;\n",
       "    }\n",
       "</style>\n",
       "<table border=\"1\" class=\"dataframe\">\n",
       "  <thead>\n",
       "    <tr style=\"text-align: right;\">\n",
       "      <th></th>\n",
       "      <th>App</th>\n",
       "      <th>Category</th>\n",
       "      <th>Rating</th>\n",
       "      <th>Reviews</th>\n",
       "      <th>Size</th>\n",
       "      <th>Installs</th>\n",
       "      <th>Type</th>\n",
       "      <th>Price</th>\n",
       "      <th>Content Rating</th>\n",
       "      <th>Last Updated</th>\n",
       "      <th>Current Ver</th>\n",
       "      <th>Minimum Android Ver</th>\n",
       "      <th>Genres</th>\n",
       "    </tr>\n",
       "  </thead>\n",
       "  <tbody>\n",
       "    <tr>\n",
       "      <th>0</th>\n",
       "      <td>Photo Editor &amp; Candy Camera &amp; Grid &amp; ScrapBook</td>\n",
       "      <td>Art And Design</td>\n",
       "      <td>4.1</td>\n",
       "      <td>159</td>\n",
       "      <td>19.0</td>\n",
       "      <td>10000</td>\n",
       "      <td>Free</td>\n",
       "      <td>0.0</td>\n",
       "      <td>Others</td>\n",
       "      <td>January 7, 2018</td>\n",
       "      <td>1.0.0</td>\n",
       "      <td>4.0.3</td>\n",
       "      <td>Art &amp; Design</td>\n",
       "    </tr>\n",
       "    <tr>\n",
       "      <th>1</th>\n",
       "      <td>Coloring book moana</td>\n",
       "      <td>Art And Design</td>\n",
       "      <td>3.9</td>\n",
       "      <td>967</td>\n",
       "      <td>14.0</td>\n",
       "      <td>500000</td>\n",
       "      <td>Free</td>\n",
       "      <td>0.0</td>\n",
       "      <td>Others</td>\n",
       "      <td>January 15, 2018</td>\n",
       "      <td>2.0.0</td>\n",
       "      <td>4.0.3</td>\n",
       "      <td>Art &amp; Design</td>\n",
       "    </tr>\n",
       "    <tr>\n",
       "      <th>2</th>\n",
       "      <td>U Launcher Lite – FREE Live Cool Themes, Hide ...</td>\n",
       "      <td>Art And Design</td>\n",
       "      <td>4.7</td>\n",
       "      <td>87510</td>\n",
       "      <td>8.7</td>\n",
       "      <td>5000000</td>\n",
       "      <td>Free</td>\n",
       "      <td>0.0</td>\n",
       "      <td>Others</td>\n",
       "      <td>August 1, 2018</td>\n",
       "      <td>1.2.4</td>\n",
       "      <td>4.0.3</td>\n",
       "      <td>Art &amp; Design</td>\n",
       "    </tr>\n",
       "    <tr>\n",
       "      <th>3</th>\n",
       "      <td>Sketch - Draw &amp; Paint</td>\n",
       "      <td>Art And Design</td>\n",
       "      <td>4.5</td>\n",
       "      <td>215644</td>\n",
       "      <td>25.0</td>\n",
       "      <td>50000000</td>\n",
       "      <td>Free</td>\n",
       "      <td>0.0</td>\n",
       "      <td>Teen</td>\n",
       "      <td>June 8, 2018</td>\n",
       "      <td>Varies with device</td>\n",
       "      <td>4.2</td>\n",
       "      <td>Art &amp; Design</td>\n",
       "    </tr>\n",
       "    <tr>\n",
       "      <th>4</th>\n",
       "      <td>Pixel Draw - Number Art Coloring Book</td>\n",
       "      <td>Art And Design</td>\n",
       "      <td>4.3</td>\n",
       "      <td>967</td>\n",
       "      <td>2.8</td>\n",
       "      <td>100000</td>\n",
       "      <td>Free</td>\n",
       "      <td>0.0</td>\n",
       "      <td>Others</td>\n",
       "      <td>June 20, 2018</td>\n",
       "      <td>1.1</td>\n",
       "      <td>4.4</td>\n",
       "      <td>Art &amp; Design</td>\n",
       "    </tr>\n",
       "  </tbody>\n",
       "</table>\n",
       "</div>"
      ],
      "text/plain": [
       "                                                 App        Category  Rating  \\\n",
       "0     Photo Editor & Candy Camera & Grid & ScrapBook  Art And Design     4.1   \n",
       "1                                Coloring book moana  Art And Design     3.9   \n",
       "2  U Launcher Lite – FREE Live Cool Themes, Hide ...  Art And Design     4.7   \n",
       "3                              Sketch - Draw & Paint  Art And Design     4.5   \n",
       "4              Pixel Draw - Number Art Coloring Book  Art And Design     4.3   \n",
       "\n",
       "   Reviews  Size  Installs  Type  Price Content Rating      Last Updated  \\\n",
       "0      159  19.0     10000  Free    0.0         Others   January 7, 2018   \n",
       "1      967  14.0    500000  Free    0.0         Others  January 15, 2018   \n",
       "2    87510   8.7   5000000  Free    0.0         Others    August 1, 2018   \n",
       "3   215644  25.0  50000000  Free    0.0           Teen      June 8, 2018   \n",
       "4      967   2.8    100000  Free    0.0         Others     June 20, 2018   \n",
       "\n",
       "          Current Ver Minimum Android Ver        Genres  \n",
       "0               1.0.0               4.0.3  Art & Design  \n",
       "1               2.0.0               4.0.3  Art & Design  \n",
       "2               1.2.4               4.0.3  Art & Design  \n",
       "3  Varies with device                 4.2  Art & Design  \n",
       "4                 1.1                 4.4  Art & Design  "
      ]
     },
     "execution_count": 11,
     "metadata": {},
     "output_type": "execute_result"
    }
   ],
   "source": [
    "df.head()"
   ]
  },
  {
   "cell_type": "code",
   "execution_count": 12,
   "id": "cf89602c",
   "metadata": {},
   "outputs": [
    {
     "data": {
      "text/plain": [
       "array(['Photo Editor & Candy Camera & Grid & ScrapBook',\n",
       "       'Coloring book moana',\n",
       "       'U Launcher Lite – FREE Live Cool Themes, Hide Apps', ...,\n",
       "       'Fr. Mike Schmitz Audio Teachings',\n",
       "       'The SCP Foundation DB fr nn5n',\n",
       "       'iHoroscope - 2018 Daily Horoscope & Astrology'], dtype=object)"
      ]
     },
     "execution_count": 12,
     "metadata": {},
     "output_type": "execute_result"
    }
   ],
   "source": [
    "df['App'].unique()"
   ]
  },
  {
   "cell_type": "code",
   "execution_count": 13,
   "id": "0b805c84",
   "metadata": {},
   "outputs": [
    {
     "data": {
      "text/plain": [
       "8190"
      ]
     },
     "execution_count": 13,
     "metadata": {},
     "output_type": "execute_result"
    }
   ],
   "source": [
    "df['App'].nunique()"
   ]
  },
  {
   "cell_type": "code",
   "execution_count": 14,
   "id": "d55e0257",
   "metadata": {},
   "outputs": [
    {
     "data": {
      "text/html": [
       "<div>\n",
       "<style scoped>\n",
       "    .dataframe tbody tr th:only-of-type {\n",
       "        vertical-align: middle;\n",
       "    }\n",
       "\n",
       "    .dataframe tbody tr th {\n",
       "        vertical-align: top;\n",
       "    }\n",
       "\n",
       "    .dataframe thead th {\n",
       "        text-align: right;\n",
       "    }\n",
       "</style>\n",
       "<table border=\"1\" class=\"dataframe\">\n",
       "  <thead>\n",
       "    <tr style=\"text-align: right;\">\n",
       "      <th></th>\n",
       "      <th>App</th>\n",
       "      <th>Category</th>\n",
       "      <th>Rating</th>\n",
       "      <th>Reviews</th>\n",
       "      <th>Size</th>\n",
       "      <th>Installs</th>\n",
       "      <th>Type</th>\n",
       "      <th>Price</th>\n",
       "      <th>Content Rating</th>\n",
       "      <th>Last Updated</th>\n",
       "      <th>Current Ver</th>\n",
       "      <th>Minimum Android Ver</th>\n",
       "      <th>Genres</th>\n",
       "    </tr>\n",
       "  </thead>\n",
       "  <tbody>\n",
       "    <tr>\n",
       "      <th>1201</th>\n",
       "      <td>Horoscopes – Daily Zodiac Horoscope and Astrology</td>\n",
       "      <td>Lifestyle</td>\n",
       "      <td>4.6</td>\n",
       "      <td>161143</td>\n",
       "      <td>11.0</td>\n",
       "      <td>10000000</td>\n",
       "      <td>Free</td>\n",
       "      <td>0.0</td>\n",
       "      <td>Others</td>\n",
       "      <td>June 25, 2018</td>\n",
       "      <td>5.2.4(881)</td>\n",
       "      <td>4.0.3</td>\n",
       "      <td>Lifestyle</td>\n",
       "    </tr>\n",
       "    <tr>\n",
       "      <th>1223</th>\n",
       "      <td>သိင်္ Astrology - Min Thein Kha BayDin</td>\n",
       "      <td>Lifestyle</td>\n",
       "      <td>4.7</td>\n",
       "      <td>2225</td>\n",
       "      <td>15.0</td>\n",
       "      <td>100000</td>\n",
       "      <td>Free</td>\n",
       "      <td>0.0</td>\n",
       "      <td>Others</td>\n",
       "      <td>July 26, 2018</td>\n",
       "      <td>4.2.1</td>\n",
       "      <td>4.0.3</td>\n",
       "      <td>Lifestyle</td>\n",
       "    </tr>\n",
       "    <tr>\n",
       "      <th>8275</th>\n",
       "      <td>iHoroscope - 2018 Daily Horoscope &amp; Astrology</td>\n",
       "      <td>Lifestyle</td>\n",
       "      <td>4.5</td>\n",
       "      <td>398307</td>\n",
       "      <td>19.0</td>\n",
       "      <td>10000000</td>\n",
       "      <td>Free</td>\n",
       "      <td>0.0</td>\n",
       "      <td>Others</td>\n",
       "      <td>July 25, 2018</td>\n",
       "      <td>Varies with device</td>\n",
       "      <td>-1</td>\n",
       "      <td>Lifestyle</td>\n",
       "    </tr>\n",
       "  </tbody>\n",
       "</table>\n",
       "</div>"
      ],
      "text/plain": [
       "                                                    App   Category  Rating  \\\n",
       "1201  Horoscopes – Daily Zodiac Horoscope and Astrology  Lifestyle     4.6   \n",
       "1223             သိင်္ Astrology - Min Thein Kha BayDin  Lifestyle     4.7   \n",
       "8275      iHoroscope - 2018 Daily Horoscope & Astrology  Lifestyle     4.5   \n",
       "\n",
       "      Reviews  Size  Installs  Type  Price Content Rating   Last Updated  \\\n",
       "1201   161143  11.0  10000000  Free    0.0         Others  June 25, 2018   \n",
       "1223     2225  15.0    100000  Free    0.0         Others  July 26, 2018   \n",
       "8275   398307  19.0  10000000  Free    0.0         Others  July 25, 2018   \n",
       "\n",
       "             Current Ver Minimum Android Ver     Genres  \n",
       "1201          5.2.4(881)               4.0.3  Lifestyle  \n",
       "1223               4.2.1               4.0.3  Lifestyle  \n",
       "8275  Varies with device                  -1  Lifestyle  "
      ]
     },
     "execution_count": 14,
     "metadata": {},
     "output_type": "execute_result"
    }
   ],
   "source": [
    "df[df['App'].str.contains('Astrology', case=False)]"
   ]
  },
  {
   "cell_type": "code",
   "execution_count": 15,
   "id": "d1adf86f",
   "metadata": {},
   "outputs": [
    {
     "data": {
      "text/plain": [
       "3"
      ]
     },
     "execution_count": 15,
     "metadata": {},
     "output_type": "execute_result"
    }
   ],
   "source": [
    "len(df[df['App'].str.contains('Astrology', case=False)])"
   ]
  },
  {
   "cell_type": "code",
   "execution_count": 16,
   "id": "4529817d",
   "metadata": {},
   "outputs": [
    {
     "data": {
      "text/plain": [
       "array(['Art And Design', 'Auto And Vehicles', 'Beauty',\n",
       "       'Books And Reference', 'Business', 'Comics', 'Communication',\n",
       "       'Dating', 'Education', 'Entertainment', 'Events', 'Finance',\n",
       "       'Food And Drink', 'Health And Fitness', 'House And Home',\n",
       "       'Libraries And Demo', 'Lifestyle', 'Game', 'Family', 'Medical',\n",
       "       'Social', 'Shopping', 'Photography', 'Sports', 'Travel And Local',\n",
       "       'Tools', 'Personalization', 'Productivity', 'Parenting', 'Weather',\n",
       "       'Video Players', 'News And Magazines', 'Maps And Navigation'],\n",
       "      dtype=object)"
      ]
     },
     "execution_count": 16,
     "metadata": {},
     "output_type": "execute_result"
    }
   ],
   "source": [
    "df['Category'].unique()"
   ]
  },
  {
   "cell_type": "code",
   "execution_count": 17,
   "id": "23965aad",
   "metadata": {},
   "outputs": [
    {
     "data": {
      "text/plain": [
       "33"
      ]
     },
     "execution_count": 17,
     "metadata": {},
     "output_type": "execute_result"
    }
   ],
   "source": [
    "df['Category'].nunique()"
   ]
  },
  {
   "cell_type": "code",
   "execution_count": 18,
   "id": "df253d4b",
   "metadata": {},
   "outputs": [
    {
     "data": {
      "text/plain": [
       "Category\n",
       "Events                 4.435556\n",
       "Art And Design         4.376667\n",
       "Education              4.364407\n",
       "Books And Reference    4.344970\n",
       "Personalization        4.331419\n",
       "Parenting              4.300000\n",
       "Beauty                 4.278571\n",
       "Game                   4.247645\n",
       "Social                 4.247291\n",
       "Weather                4.243056\n",
       "Health And Fitness     4.243033\n",
       "Shopping               4.230000\n",
       "Sports                 4.218702\n",
       "Auto And Vehicles      4.190411\n",
       "Family                 4.187285\n",
       "Productivity           4.183389\n",
       "Comics                 4.181481\n",
       "Libraries And Demo     4.179365\n",
       "Food And Drink         4.172340\n",
       "Medical                4.169178\n",
       "Photography            4.157414\n",
       "House And Home         4.150000\n",
       "Entertainment          4.135294\n",
       "News And Magazines     4.121569\n",
       "Communication          4.121401\n",
       "Finance                4.115563\n",
       "Business               4.098479\n",
       "Lifestyle              4.093355\n",
       "Travel And Local       4.069519\n",
       "Video Players          4.043333\n",
       "Tools                  4.040334\n",
       "Maps And Navigation    4.036441\n",
       "Dating                 3.970149\n",
       "Name: Rating, dtype: float64"
      ]
     },
     "execution_count": 18,
     "metadata": {},
     "output_type": "execute_result"
    }
   ],
   "source": [
    "df.groupby('Category') ['Rating'].mean().sort_values(ascending=False)"
   ]
  },
  {
   "cell_type": "code",
   "execution_count": 19,
   "id": "d143161d",
   "metadata": {},
   "outputs": [
    {
     "data": {
      "image/png": "[encoded data removed]",
      "text/plain": [
       "<Figure size 1500x800 with 1 Axes>"
      ]
     },
     "metadata": {},
     "output_type": "display_data"
    }
   ],
   "source": [
    "plt.figure(figsize=(15, 8))\n",
    "sns.boxplot(x='Category', y='Rating', data=df, palette='Set3')\n",
    "plt.title('DISTRIBUTION OF RATINGS BY CATEGORY', fontsize=16)\n",
    "plt.xlabel('Category', fontsize=14)\n",
    "plt.ylabel('Ratings', fontsize=14)\n",
    "plt.xticks(rotation=90, fontsize=12)\n",
    "plt.yticks(fontsize=12)\n",
    "plt.tight_layout()\n",
    "plt.show()"
   ]
  },
  {
   "cell_type": "code",
   "execution_count": 20,
   "id": "6c30cd55",
   "metadata": {},
   "outputs": [
    {
     "data": {
      "text/html": [
       "<div>\n",
       "<style scoped>\n",
       "    .dataframe tbody tr th:only-of-type {\n",
       "        vertical-align: middle;\n",
       "    }\n",
       "\n",
       "    .dataframe tbody tr th {\n",
       "        vertical-align: top;\n",
       "    }\n",
       "\n",
       "    .dataframe thead th {\n",
       "        text-align: right;\n",
       "    }\n",
       "</style>\n",
       "<table border=\"1\" class=\"dataframe\">\n",
       "  <thead>\n",
       "    <tr style=\"text-align: right;\">\n",
       "      <th></th>\n",
       "      <th>App</th>\n",
       "      <th>Category</th>\n",
       "      <th>Rating</th>\n",
       "      <th>Reviews</th>\n",
       "      <th>Size</th>\n",
       "      <th>Installs</th>\n",
       "      <th>Type</th>\n",
       "      <th>Price</th>\n",
       "      <th>Content Rating</th>\n",
       "      <th>Last Updated</th>\n",
       "      <th>Current Ver</th>\n",
       "      <th>Minimum Android Ver</th>\n",
       "      <th>Genres</th>\n",
       "    </tr>\n",
       "  </thead>\n",
       "  <tbody>\n",
       "    <tr>\n",
       "      <th>280</th>\n",
       "      <td>Hojiboy Tojiboyev Life Hacks</td>\n",
       "      <td>Comics</td>\n",
       "      <td>5.0</td>\n",
       "      <td>15</td>\n",
       "      <td>37.0</td>\n",
       "      <td>1000</td>\n",
       "      <td>Free</td>\n",
       "      <td>0.0</td>\n",
       "      <td>Others</td>\n",
       "      <td>June 26, 2018</td>\n",
       "      <td>2.0</td>\n",
       "      <td>4.0.3</td>\n",
       "      <td>Comics</td>\n",
       "    </tr>\n",
       "    <tr>\n",
       "      <th>495</th>\n",
       "      <td>American Girls Mobile Numbers</td>\n",
       "      <td>Dating</td>\n",
       "      <td>5.0</td>\n",
       "      <td>5</td>\n",
       "      <td>4.4</td>\n",
       "      <td>1000</td>\n",
       "      <td>Free</td>\n",
       "      <td>0.0</td>\n",
       "      <td>NaN</td>\n",
       "      <td>July 17, 2018</td>\n",
       "      <td>3.0</td>\n",
       "      <td>4.0.3</td>\n",
       "      <td>Dating</td>\n",
       "    </tr>\n",
       "    <tr>\n",
       "      <th>497</th>\n",
       "      <td>Awake Dating</td>\n",
       "      <td>Dating</td>\n",
       "      <td>5.0</td>\n",
       "      <td>2</td>\n",
       "      <td>70.0</td>\n",
       "      <td>100</td>\n",
       "      <td>Free</td>\n",
       "      <td>0.0</td>\n",
       "      <td>NaN</td>\n",
       "      <td>July 24, 2018</td>\n",
       "      <td>2.2.9</td>\n",
       "      <td>4.4</td>\n",
       "      <td>Dating</td>\n",
       "    </tr>\n",
       "    <tr>\n",
       "      <th>503</th>\n",
       "      <td>Spine- The dating app</td>\n",
       "      <td>Dating</td>\n",
       "      <td>5.0</td>\n",
       "      <td>5</td>\n",
       "      <td>9.3</td>\n",
       "      <td>500</td>\n",
       "      <td>Free</td>\n",
       "      <td>0.0</td>\n",
       "      <td>Teen</td>\n",
       "      <td>July 14, 2018</td>\n",
       "      <td>4.0</td>\n",
       "      <td>4.0.3</td>\n",
       "      <td>Dating</td>\n",
       "    </tr>\n",
       "    <tr>\n",
       "      <th>505</th>\n",
       "      <td>Girls Live Talk - Free Text and Video Chat</td>\n",
       "      <td>Dating</td>\n",
       "      <td>5.0</td>\n",
       "      <td>6</td>\n",
       "      <td>5.0</td>\n",
       "      <td>100</td>\n",
       "      <td>Free</td>\n",
       "      <td>0.0</td>\n",
       "      <td>NaN</td>\n",
       "      <td>August 1, 2018</td>\n",
       "      <td>8.2</td>\n",
       "      <td>4.0.3</td>\n",
       "      <td>Dating</td>\n",
       "    </tr>\n",
       "    <tr>\n",
       "      <th>...</th>\n",
       "      <td>...</td>\n",
       "      <td>...</td>\n",
       "      <td>...</td>\n",
       "      <td>...</td>\n",
       "      <td>...</td>\n",
       "      <td>...</td>\n",
       "      <td>...</td>\n",
       "      <td>...</td>\n",
       "      <td>...</td>\n",
       "      <td>...</td>\n",
       "      <td>...</td>\n",
       "      <td>...</td>\n",
       "      <td>...</td>\n",
       "    </tr>\n",
       "    <tr>\n",
       "      <th>8194</th>\n",
       "      <td>Mad Dash Fo' Cash</td>\n",
       "      <td>Game</td>\n",
       "      <td>5.0</td>\n",
       "      <td>14</td>\n",
       "      <td>16.0</td>\n",
       "      <td>100</td>\n",
       "      <td>Free</td>\n",
       "      <td>0.0</td>\n",
       "      <td>Others</td>\n",
       "      <td>June 19, 2017</td>\n",
       "      <td>2.5a</td>\n",
       "      <td>4.1</td>\n",
       "      <td>Arcade</td>\n",
       "    </tr>\n",
       "    <tr>\n",
       "      <th>8211</th>\n",
       "      <td>GKPB FP Online Church</td>\n",
       "      <td>Lifestyle</td>\n",
       "      <td>5.0</td>\n",
       "      <td>32</td>\n",
       "      <td>7.9</td>\n",
       "      <td>1000</td>\n",
       "      <td>Free</td>\n",
       "      <td>0.0</td>\n",
       "      <td>Others</td>\n",
       "      <td>December 31, 2017</td>\n",
       "      <td>0.7.1</td>\n",
       "      <td>4.4</td>\n",
       "      <td>Lifestyle</td>\n",
       "    </tr>\n",
       "    <tr>\n",
       "      <th>8229</th>\n",
       "      <td>Monster Ride Pro</td>\n",
       "      <td>Game</td>\n",
       "      <td>5.0</td>\n",
       "      <td>1</td>\n",
       "      <td>24.0</td>\n",
       "      <td>10</td>\n",
       "      <td>Free</td>\n",
       "      <td>0.0</td>\n",
       "      <td>Others</td>\n",
       "      <td>March 5, 2018</td>\n",
       "      <td>2.0</td>\n",
       "      <td>2.3</td>\n",
       "      <td>Racing</td>\n",
       "    </tr>\n",
       "    <tr>\n",
       "      <th>8263</th>\n",
       "      <td>Fr. Daoud Lamei</td>\n",
       "      <td>Family</td>\n",
       "      <td>5.0</td>\n",
       "      <td>22</td>\n",
       "      <td>8.6</td>\n",
       "      <td>1000</td>\n",
       "      <td>Free</td>\n",
       "      <td>0.0</td>\n",
       "      <td>Teen</td>\n",
       "      <td>June 27, 2018</td>\n",
       "      <td>3.8.0</td>\n",
       "      <td>4.1</td>\n",
       "      <td>Education</td>\n",
       "    </tr>\n",
       "    <tr>\n",
       "      <th>8273</th>\n",
       "      <td>Fr. Mike Schmitz Audio Teachings</td>\n",
       "      <td>Family</td>\n",
       "      <td>5.0</td>\n",
       "      <td>4</td>\n",
       "      <td>3.6</td>\n",
       "      <td>100</td>\n",
       "      <td>Free</td>\n",
       "      <td>0.0</td>\n",
       "      <td>Others</td>\n",
       "      <td>July 6, 2018</td>\n",
       "      <td>1.0</td>\n",
       "      <td>4.1</td>\n",
       "      <td>Education</td>\n",
       "    </tr>\n",
       "  </tbody>\n",
       "</table>\n",
       "<p>271 rows × 13 columns</p>\n",
       "</div>"
      ],
      "text/plain": [
       "                                             App   Category  Rating  Reviews  \\\n",
       "280                 Hojiboy Tojiboyev Life Hacks     Comics     5.0       15   \n",
       "495                American Girls Mobile Numbers     Dating     5.0        5   \n",
       "497                                 Awake Dating     Dating     5.0        2   \n",
       "503                        Spine- The dating app     Dating     5.0        5   \n",
       "505   Girls Live Talk - Free Text and Video Chat     Dating     5.0        6   \n",
       "...                                          ...        ...     ...      ...   \n",
       "8194                           Mad Dash Fo' Cash       Game     5.0       14   \n",
       "8211                       GKPB FP Online Church  Lifestyle     5.0       32   \n",
       "8229                            Monster Ride Pro       Game     5.0        1   \n",
       "8263                             Fr. Daoud Lamei     Family     5.0       22   \n",
       "8273            Fr. Mike Schmitz Audio Teachings     Family     5.0        4   \n",
       "\n",
       "      Size  Installs  Type  Price Content Rating       Last Updated  \\\n",
       "280   37.0      1000  Free    0.0         Others      June 26, 2018   \n",
       "495    4.4      1000  Free    0.0            NaN      July 17, 2018   \n",
       "497   70.0       100  Free    0.0            NaN      July 24, 2018   \n",
       "503    9.3       500  Free    0.0           Teen      July 14, 2018   \n",
       "505    5.0       100  Free    0.0            NaN     August 1, 2018   \n",
       "...    ...       ...   ...    ...            ...                ...   \n",
       "8194  16.0       100  Free    0.0         Others      June 19, 2017   \n",
       "8211   7.9      1000  Free    0.0         Others  December 31, 2017   \n",
       "8229  24.0        10  Free    0.0         Others      March 5, 2018   \n",
       "8263   8.6      1000  Free    0.0           Teen      June 27, 2018   \n",
       "8273   3.6       100  Free    0.0         Others       July 6, 2018   \n",
       "\n",
       "     Current Ver Minimum Android Ver     Genres  \n",
       "280          2.0               4.0.3     Comics  \n",
       "495          3.0               4.0.3     Dating  \n",
       "497        2.2.9                 4.4     Dating  \n",
       "503          4.0               4.0.3     Dating  \n",
       "505          8.2               4.0.3     Dating  \n",
       "...          ...                 ...        ...  \n",
       "8194        2.5a                 4.1     Arcade  \n",
       "8211       0.7.1                 4.4  Lifestyle  \n",
       "8229         2.0                 2.3     Racing  \n",
       "8263       3.8.0                 4.1  Education  \n",
       "8273         1.0                 4.1  Education  \n",
       "\n",
       "[271 rows x 13 columns]"
      ]
     },
     "execution_count": 20,
     "metadata": {},
     "output_type": "execute_result"
    }
   ],
   "source": [
    "# Apps having 5 star ratings:\n",
    "df[df['Rating'] == 5.0]"
   ]
  },
  {
   "cell_type": "code",
   "execution_count": 21,
   "id": "d77d5771",
   "metadata": {},
   "outputs": [
    {
     "data": {
      "text/plain": [
       "271"
      ]
     },
     "execution_count": 21,
     "metadata": {},
     "output_type": "execute_result"
    }
   ],
   "source": [
    "len(df[df['Rating'] == 5.0])"
   ]
  },
  {
   "cell_type": "markdown",
   "id": "ef4b070a",
   "metadata": {},
   "source": [
    "__Hence from the above data, we can see that \"271 Apps\" have the rating of \"5.0\".__"
   ]
  },
  {
   "cell_type": "code",
   "execution_count": 22,
   "id": "72ae4786",
   "metadata": {},
   "outputs": [
    {
     "data": {
      "text/plain": [
       "dtype('int64')"
      ]
     },
     "execution_count": 22,
     "metadata": {},
     "output_type": "execute_result"
    }
   ],
   "source": [
    "# Average value of reviews:\n",
    "df['Reviews'].dtype"
   ]
  },
  {
   "cell_type": "code",
   "execution_count": 23,
   "id": "249e10f7",
   "metadata": {},
   "outputs": [
    {
     "data": {
      "text/plain": [
       "Category\n",
       "Social                 1.122795e+06\n",
       "Communication          1.112173e+06\n",
       "Game                   6.831018e+05\n",
       "Video Players          4.509657e+05\n",
       "Photography            4.005750e+05\n",
       "Entertainment          3.408103e+05\n",
       "Tools                  3.190816e+05\n",
       "Shopping               2.475086e+05\n",
       "Sports                 2.267427e+05\n",
       "Family                 2.055894e+05\n",
       "Productivity           1.846857e+05\n",
       "Personalization        1.808863e+05\n",
       "Weather                1.707656e+05\n",
       "Maps And Navigation    1.502454e+05\n",
       "Travel And Local       1.434203e+05\n",
       "News And Magazines     1.133787e+05\n",
       "Education              1.132489e+05\n",
       "Books And Reference    9.894027e+04\n",
       "Health And Fitness     8.754604e+04\n",
       "Food And Drink         6.728412e+04\n",
       "Comics                 4.334704e+04\n",
       "Finance                4.192644e+04\n",
       "Lifestyle              3.930783e+04\n",
       "Business               3.760372e+04\n",
       "House And Home         3.112042e+04\n",
       "Dating                 2.703963e+04\n",
       "Art And Design         2.365133e+04\n",
       "Parenting              1.907218e+04\n",
       "Auto And Vehicles      1.594014e+04\n",
       "Libraries And Demo     1.401751e+04\n",
       "Beauty                 9.407929e+03\n",
       "Medical                4.408534e+03\n",
       "Events                 3.568667e+03\n",
       "Name: Reviews, dtype: float64"
      ]
     },
     "execution_count": 23,
     "metadata": {},
     "output_type": "execute_result"
    }
   ],
   "source": [
    "df.groupby('Category') ['Reviews'].mean().sort_values(ascending=False)"
   ]
  },
  {
   "cell_type": "code",
   "execution_count": 24,
   "id": "579cd5db",
   "metadata": {},
   "outputs": [
    {
     "data": {
      "image/png": "[encoded data removed]",
      "text/plain": [
       "<Figure size 1000x500 with 1 Axes>"
      ]
     },
     "metadata": {},
     "output_type": "display_data"
    }
   ],
   "source": [
    "plt.figure(figsize=(10, 5))\n",
    "sns.barplot(x='Category', y='Reviews', data=df, palette='Set3')\n",
    "plt.title('REVIEWS - CATEGORY WISE', fontsize=16)\n",
    "plt.xlabel('Category', fontsize=14)\n",
    "plt.ylabel('Reviews', fontsize=14)\n",
    "plt.xticks(rotation=90, fontsize=12)\n",
    "plt.yticks(fontsize=12)\n",
    "plt.tight_layout()\n",
    "plt.show()"
   ]
  },
  {
   "cell_type": "markdown",
   "id": "73480208",
   "metadata": {},
   "source": [
    "__From the above barplot, we can see that highest number of reviews is given for \"SOCIAL\" apps followed by \"COMMUNICATION\" and \"GAME\" apps respectively.__"
   ]
  },
  {
   "cell_type": "code",
   "execution_count": 25,
   "id": "40ddf162",
   "metadata": {},
   "outputs": [
    {
     "data": {
      "text/plain": [
       "dtype('int64')"
      ]
     },
     "execution_count": 25,
     "metadata": {},
     "output_type": "execute_result"
    }
   ],
   "source": [
    "df['Reviews'].dtype"
   ]
  },
  {
   "cell_type": "code",
   "execution_count": 26,
   "id": "ae70a63a",
   "metadata": {},
   "outputs": [
    {
     "data": {
      "text/plain": [
       "280327.00217496377"
      ]
     },
     "execution_count": 26,
     "metadata": {},
     "output_type": "execute_result"
    }
   ],
   "source": [
    "df['Reviews'].mean()"
   ]
  },
  {
   "cell_type": "code",
   "execution_count": 27,
   "id": "720cf4ce",
   "metadata": {},
   "outputs": [
    {
     "data": {
      "text/html": [
       "<div>\n",
       "<style scoped>\n",
       "    .dataframe tbody tr th:only-of-type {\n",
       "        vertical-align: middle;\n",
       "    }\n",
       "\n",
       "    .dataframe tbody tr th {\n",
       "        vertical-align: top;\n",
       "    }\n",
       "\n",
       "    .dataframe thead th {\n",
       "        text-align: right;\n",
       "    }\n",
       "</style>\n",
       "<table border=\"1\" class=\"dataframe\">\n",
       "  <thead>\n",
       "    <tr style=\"text-align: right;\">\n",
       "      <th></th>\n",
       "      <th>App</th>\n",
       "      <th>Category</th>\n",
       "      <th>Rating</th>\n",
       "      <th>Reviews</th>\n",
       "      <th>Size</th>\n",
       "      <th>Installs</th>\n",
       "      <th>Type</th>\n",
       "      <th>Price</th>\n",
       "      <th>Content Rating</th>\n",
       "      <th>Last Updated</th>\n",
       "      <th>Current Ver</th>\n",
       "      <th>Minimum Android Ver</th>\n",
       "      <th>Genres</th>\n",
       "    </tr>\n",
       "  </thead>\n",
       "  <tbody>\n",
       "    <tr>\n",
       "      <th>0</th>\n",
       "      <td>Photo Editor &amp; Candy Camera &amp; Grid &amp; ScrapBook</td>\n",
       "      <td>Art And Design</td>\n",
       "      <td>4.1</td>\n",
       "      <td>159</td>\n",
       "      <td>19.0</td>\n",
       "      <td>10000</td>\n",
       "      <td>Free</td>\n",
       "      <td>0.0</td>\n",
       "      <td>Others</td>\n",
       "      <td>January 7, 2018</td>\n",
       "      <td>1.0.0</td>\n",
       "      <td>4.0.3</td>\n",
       "      <td>Art &amp; Design</td>\n",
       "    </tr>\n",
       "    <tr>\n",
       "      <th>1</th>\n",
       "      <td>Coloring book moana</td>\n",
       "      <td>Art And Design</td>\n",
       "      <td>3.9</td>\n",
       "      <td>967</td>\n",
       "      <td>14.0</td>\n",
       "      <td>500000</td>\n",
       "      <td>Free</td>\n",
       "      <td>0.0</td>\n",
       "      <td>Others</td>\n",
       "      <td>January 15, 2018</td>\n",
       "      <td>2.0.0</td>\n",
       "      <td>4.0.3</td>\n",
       "      <td>Art &amp; Design</td>\n",
       "    </tr>\n",
       "    <tr>\n",
       "      <th>2</th>\n",
       "      <td>U Launcher Lite – FREE Live Cool Themes, Hide ...</td>\n",
       "      <td>Art And Design</td>\n",
       "      <td>4.7</td>\n",
       "      <td>87510</td>\n",
       "      <td>8.7</td>\n",
       "      <td>5000000</td>\n",
       "      <td>Free</td>\n",
       "      <td>0.0</td>\n",
       "      <td>Others</td>\n",
       "      <td>August 1, 2018</td>\n",
       "      <td>1.2.4</td>\n",
       "      <td>4.0.3</td>\n",
       "      <td>Art &amp; Design</td>\n",
       "    </tr>\n",
       "    <tr>\n",
       "      <th>3</th>\n",
       "      <td>Sketch - Draw &amp; Paint</td>\n",
       "      <td>Art And Design</td>\n",
       "      <td>4.5</td>\n",
       "      <td>215644</td>\n",
       "      <td>25.0</td>\n",
       "      <td>50000000</td>\n",
       "      <td>Free</td>\n",
       "      <td>0.0</td>\n",
       "      <td>Teen</td>\n",
       "      <td>June 8, 2018</td>\n",
       "      <td>Varies with device</td>\n",
       "      <td>4.2</td>\n",
       "      <td>Art &amp; Design</td>\n",
       "    </tr>\n",
       "    <tr>\n",
       "      <th>4</th>\n",
       "      <td>Pixel Draw - Number Art Coloring Book</td>\n",
       "      <td>Art And Design</td>\n",
       "      <td>4.3</td>\n",
       "      <td>967</td>\n",
       "      <td>2.8</td>\n",
       "      <td>100000</td>\n",
       "      <td>Free</td>\n",
       "      <td>0.0</td>\n",
       "      <td>Others</td>\n",
       "      <td>June 20, 2018</td>\n",
       "      <td>1.1</td>\n",
       "      <td>4.4</td>\n",
       "      <td>Art &amp; Design</td>\n",
       "    </tr>\n",
       "  </tbody>\n",
       "</table>\n",
       "</div>"
      ],
      "text/plain": [
       "                                                 App        Category  Rating  \\\n",
       "0     Photo Editor & Candy Camera & Grid & ScrapBook  Art And Design     4.1   \n",
       "1                                Coloring book moana  Art And Design     3.9   \n",
       "2  U Launcher Lite – FREE Live Cool Themes, Hide ...  Art And Design     4.7   \n",
       "3                              Sketch - Draw & Paint  Art And Design     4.5   \n",
       "4              Pixel Draw - Number Art Coloring Book  Art And Design     4.3   \n",
       "\n",
       "   Reviews  Size  Installs  Type  Price Content Rating      Last Updated  \\\n",
       "0      159  19.0     10000  Free    0.0         Others   January 7, 2018   \n",
       "1      967  14.0    500000  Free    0.0         Others  January 15, 2018   \n",
       "2    87510   8.7   5000000  Free    0.0         Others    August 1, 2018   \n",
       "3   215644  25.0  50000000  Free    0.0           Teen      June 8, 2018   \n",
       "4      967   2.8    100000  Free    0.0         Others     June 20, 2018   \n",
       "\n",
       "          Current Ver Minimum Android Ver        Genres  \n",
       "0               1.0.0               4.0.3  Art & Design  \n",
       "1               2.0.0               4.0.3  Art & Design  \n",
       "2               1.2.4               4.0.3  Art & Design  \n",
       "3  Varies with device                 4.2  Art & Design  \n",
       "4                 1.1                 4.4  Art & Design  "
      ]
     },
     "execution_count": 27,
     "metadata": {},
     "output_type": "execute_result"
    }
   ],
   "source": [
    "df.head()"
   ]
  },
  {
   "cell_type": "code",
   "execution_count": 28,
   "id": "de4219df",
   "metadata": {},
   "outputs": [
    {
     "data": {
      "text/plain": [
       "array(['Free', 'Paid'], dtype=object)"
      ]
     },
     "execution_count": 28,
     "metadata": {},
     "output_type": "execute_result"
    }
   ],
   "source": [
    "df['Type'].unique()"
   ]
  },
  {
   "cell_type": "code",
   "execution_count": 29,
   "id": "69a7edb0",
   "metadata": {},
   "outputs": [
    {
     "data": {
      "text/plain": [
       "78158306"
      ]
     },
     "execution_count": 29,
     "metadata": {},
     "output_type": "execute_result"
    }
   ],
   "source": [
    "df['Reviews'].max()"
   ]
  },
  {
   "cell_type": "code",
   "execution_count": 30,
   "id": "94df794f",
   "metadata": {},
   "outputs": [
    {
     "data": {
      "text/plain": [
       "1892    Facebook\n",
       "Name: App, dtype: object"
      ]
     },
     "execution_count": 30,
     "metadata": {},
     "output_type": "execute_result"
    }
   ],
   "source": [
    "df[df['Reviews'].max() == df['Reviews']] ['App']"
   ]
  },
  {
   "cell_type": "code",
   "execution_count": 31,
   "id": "17d0e4e8",
   "metadata": {},
   "outputs": [],
   "source": [
    "index = df['Reviews'].sort_values(ascending = False).head().index"
   ]
  },
  {
   "cell_type": "code",
   "execution_count": 32,
   "id": "92c6eaee",
   "metadata": {},
   "outputs": [
    {
     "data": {
      "text/plain": [
       "1892                                    Facebook\n",
       "287                           WhatsApp Messenger\n",
       "1893                                   Instagram\n",
       "286     Messenger – Text and Video Chat for Free\n",
       "1291                              Clash of Clans\n",
       "Name: App, dtype: object"
      ]
     },
     "execution_count": 32,
     "metadata": {},
     "output_type": "execute_result"
    }
   ],
   "source": [
    "# Top 5 apps having highest reviews:\n",
    "df.iloc[index]['App']"
   ]
  },
  {
   "cell_type": "markdown",
   "id": "4fb555c0",
   "metadata": {},
   "source": [
    "__The app having the highest review is \"FACEBOOK\" followed by \"WhatsApp Messenger\", \"Instagram\", \"Messenger - Text and Video Chat for Free\" and \"Clash of Clans\" respectively.__"
   ]
  },
  {
   "cell_type": "code",
   "execution_count": 33,
   "id": "b8c75c03",
   "metadata": {},
   "outputs": [
    {
     "data": {
      "text/plain": [
       "Type\n",
       "Free    4.168339\n",
       "Paid    4.261258\n",
       "Name: Rating, dtype: float64"
      ]
     },
     "execution_count": 33,
     "metadata": {},
     "output_type": "execute_result"
    }
   ],
   "source": [
    "df.groupby('Type')['Rating'].mean()"
   ]
  },
  {
   "cell_type": "code",
   "execution_count": 34,
   "id": "29c82222",
   "metadata": {},
   "outputs": [
    {
     "data": {
      "text/plain": [
       "dtype('int64')"
      ]
     },
     "execution_count": 34,
     "metadata": {},
     "output_type": "execute_result"
    }
   ],
   "source": [
    "df['Installs'].dtype"
   ]
  },
  {
   "cell_type": "code",
   "execution_count": 35,
   "id": "b591648a",
   "metadata": {},
   "outputs": [],
   "source": [
    "index = df['Installs'].sort_values(ascending = False).head().index"
   ]
  },
  {
   "cell_type": "code",
   "execution_count": 36,
   "id": "92c65ec7",
   "metadata": {},
   "outputs": [
    {
     "data": {
      "text/html": [
       "<div>\n",
       "<style scoped>\n",
       "    .dataframe tbody tr th:only-of-type {\n",
       "        vertical-align: middle;\n",
       "    }\n",
       "\n",
       "    .dataframe tbody tr th {\n",
       "        vertical-align: top;\n",
       "    }\n",
       "\n",
       "    .dataframe thead th {\n",
       "        text-align: right;\n",
       "    }\n",
       "</style>\n",
       "<table border=\"1\" class=\"dataframe\">\n",
       "  <thead>\n",
       "    <tr style=\"text-align: right;\">\n",
       "      <th></th>\n",
       "      <th>App</th>\n",
       "      <th>Category</th>\n",
       "      <th>Rating</th>\n",
       "      <th>Reviews</th>\n",
       "      <th>Size</th>\n",
       "      <th>Installs</th>\n",
       "      <th>Type</th>\n",
       "      <th>Price</th>\n",
       "      <th>Content Rating</th>\n",
       "      <th>Last Updated</th>\n",
       "      <th>Current Ver</th>\n",
       "      <th>Minimum Android Ver</th>\n",
       "      <th>Genres</th>\n",
       "    </tr>\n",
       "  </thead>\n",
       "  <tbody>\n",
       "    <tr>\n",
       "      <th>651</th>\n",
       "      <td>Google Play Games</td>\n",
       "      <td>Entertainment</td>\n",
       "      <td>4.3</td>\n",
       "      <td>7165362</td>\n",
       "      <td>1.0</td>\n",
       "      <td>1000000000</td>\n",
       "      <td>Free</td>\n",
       "      <td>0.0</td>\n",
       "      <td>Teen</td>\n",
       "      <td>July 16, 2018</td>\n",
       "      <td>Varies with device</td>\n",
       "      <td>-1</td>\n",
       "      <td>Entertainment</td>\n",
       "    </tr>\n",
       "    <tr>\n",
       "      <th>2856</th>\n",
       "      <td>Google News</td>\n",
       "      <td>News And Magazines</td>\n",
       "      <td>3.9</td>\n",
       "      <td>877635</td>\n",
       "      <td>13.0</td>\n",
       "      <td>1000000000</td>\n",
       "      <td>Free</td>\n",
       "      <td>0.0</td>\n",
       "      <td>Teen</td>\n",
       "      <td>August 1, 2018</td>\n",
       "      <td>5.2.0</td>\n",
       "      <td>4.4</td>\n",
       "      <td>News &amp; Magazines</td>\n",
       "    </tr>\n",
       "    <tr>\n",
       "      <th>2809</th>\n",
       "      <td>Google Play Movies &amp; TV</td>\n",
       "      <td>Video Players</td>\n",
       "      <td>3.7</td>\n",
       "      <td>906384</td>\n",
       "      <td>1.0</td>\n",
       "      <td>1000000000</td>\n",
       "      <td>Free</td>\n",
       "      <td>0.0</td>\n",
       "      <td>Teen</td>\n",
       "      <td>August 6, 2018</td>\n",
       "      <td>Varies with device</td>\n",
       "      <td>-1</td>\n",
       "      <td>Video Players &amp; Editors</td>\n",
       "    </tr>\n",
       "    <tr>\n",
       "      <th>2787</th>\n",
       "      <td>YouTube</td>\n",
       "      <td>Video Players</td>\n",
       "      <td>4.3</td>\n",
       "      <td>25655305</td>\n",
       "      <td>1.0</td>\n",
       "      <td>1000000000</td>\n",
       "      <td>Free</td>\n",
       "      <td>0.0</td>\n",
       "      <td>Teen</td>\n",
       "      <td>August 2, 2018</td>\n",
       "      <td>Varies with device</td>\n",
       "      <td>-1</td>\n",
       "      <td>Video Players &amp; Editors</td>\n",
       "    </tr>\n",
       "    <tr>\n",
       "      <th>2319</th>\n",
       "      <td>Google Street View</td>\n",
       "      <td>Travel And Local</td>\n",
       "      <td>4.2</td>\n",
       "      <td>2129689</td>\n",
       "      <td>1.0</td>\n",
       "      <td>1000000000</td>\n",
       "      <td>Free</td>\n",
       "      <td>0.0</td>\n",
       "      <td>Others</td>\n",
       "      <td>August 6, 2018</td>\n",
       "      <td>Varies with device</td>\n",
       "      <td>-1</td>\n",
       "      <td>Travel &amp; Local</td>\n",
       "    </tr>\n",
       "  </tbody>\n",
       "</table>\n",
       "</div>"
      ],
      "text/plain": [
       "                          App            Category  Rating   Reviews  Size  \\\n",
       "651         Google Play Games       Entertainment     4.3   7165362   1.0   \n",
       "2856              Google News  News And Magazines     3.9    877635  13.0   \n",
       "2809  Google Play Movies & TV       Video Players     3.7    906384   1.0   \n",
       "2787                  YouTube       Video Players     4.3  25655305   1.0   \n",
       "2319       Google Street View    Travel And Local     4.2   2129689   1.0   \n",
       "\n",
       "        Installs  Type  Price Content Rating    Last Updated  \\\n",
       "651   1000000000  Free    0.0           Teen   July 16, 2018   \n",
       "2856  1000000000  Free    0.0           Teen  August 1, 2018   \n",
       "2809  1000000000  Free    0.0           Teen  August 6, 2018   \n",
       "2787  1000000000  Free    0.0           Teen  August 2, 2018   \n",
       "2319  1000000000  Free    0.0         Others  August 6, 2018   \n",
       "\n",
       "             Current Ver Minimum Android Ver                   Genres  \n",
       "651   Varies with device                  -1            Entertainment  \n",
       "2856               5.2.0                 4.4         News & Magazines  \n",
       "2809  Varies with device                  -1  Video Players & Editors  \n",
       "2787  Varies with device                  -1  Video Players & Editors  \n",
       "2319  Varies with device                  -1           Travel & Local  "
      ]
     },
     "execution_count": 36,
     "metadata": {},
     "output_type": "execute_result"
    }
   ],
   "source": [
    "df.iloc[index]"
   ]
  },
  {
   "cell_type": "code",
   "execution_count": 37,
   "id": "f3aaa463",
   "metadata": {},
   "outputs": [
    {
     "data": {
      "text/plain": [
       "651           Google Play Games\n",
       "2856                Google News\n",
       "2809    Google Play Movies & TV\n",
       "2787                    YouTube\n",
       "2319         Google Street View\n",
       "Name: App, dtype: object"
      ]
     },
     "execution_count": 37,
     "metadata": {},
     "output_type": "execute_result"
    }
   ],
   "source": [
    "df.iloc[index]['App']"
   ]
  },
  {
   "cell_type": "markdown",
   "id": "662efb31",
   "metadata": {},
   "source": [
    "__Hence, we can see that the app which is highly installed is \"Google Play Games\" followed by \"Google News\", \"Google Play Movies & TV\", \"Youtube\" and \"Google Street View\" respectively.__"
   ]
  },
  {
   "cell_type": "code",
   "execution_count": null,
   "id": "ca4e0dd0",
   "metadata": {},
   "outputs": [],
   "source": []
  }
 ],
 "metadata": {
  "kernelspec": {
   "display_name": "Python 3 (ipykernel)",
   "language": "python",
   "name": "python3"
  },
  "language_info": {
   "codemirror_mode": {
    "name": "ipython",
    "version": 3
   },
   "file_extension": ".py",
   "mimetype": "text/x-python",
   "name": "python",
   "nbconvert_exporter": "python",
   "pygments_lexer": "ipython3",
   "version": "3.11.4"
  }
 },
 "nbformat": 4,
 "nbformat_minor": 5
}
